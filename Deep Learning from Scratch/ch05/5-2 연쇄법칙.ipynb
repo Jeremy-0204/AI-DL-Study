{
 "cells": [
  {
   "cell_type": "markdown",
   "metadata": {},
   "source": [
    "### 5-2 연쇄법칙\n",
    "\n",
    "국소적 미분은 연쇄법칙에 따른 것이다.  \n",
    "연쇄법칙이 계산 그래프 상의 역전파와 같다는 사실을 밝혀보자.  \n",
    "\n",
    "\n",
    "#### 5.2.1 계산 그래프의 역전파\n",
    "\n",
    "y = f(x) 라는 식이 있을때 역전파 계산 절차는 신호 E에 노드의 국소적 미분을 곱한 후 다음 노드로 전달하는 것이다.  \n",
    "여기서의 국소적 미분이라 함은 순전파 때의 y=f(x) 계산의 미분을 구한다는 것이며, 이는 x에 대한 y의 미분을 구한다는 것이다. "
   ]
  },
  {
   "cell_type": "markdown",
   "metadata": {},
   "source": [
    "#### 5.2.2 연쇄법칙이란?\n",
    "\n",
    "합성 함수 이야기부터 시작해보자. 합성 함수란 여러 함수로 구성된 함수이다. z = (x + y)^2라는 식은  \n",
    "z = t^2, t = x + y라는 두 식으로 구성된다.  \n",
    "\n",
    "연쇄법칙은 합성 함수 미분에 대한 성질이며 다음과 같이 정의된다.  \n",
    "합성 함수의 미분은 합성 함수를 구성하는 각 함수의 미분의 곱으로 나타낼 수 있다.  \n",
    "이것이 연쇄법칙의 원리이다.  \n",
    "\n",
    "x에 대한 z의 미분은 t에 대한 z의 미분과 x에 대한 t의 미분의 곱으로 나타낼 수 있는 것이다.  \n",
    "t에 대한 z의 미분은 2t, x에 대한 t의 미분은 국소적 미분으로 (편미분) 1이 된다.  \n",
    "두 미분을 곱해 계산하면 2(x+y) 가 된다.  "
   ]
  },
  {
   "cell_type": "markdown",
   "metadata": {},
   "source": [
    "#### 5.2.3 연쇄법칙과 계산 그래프\n",
    "\n",
    "x\n",
    "delta(z) / delta(z) * delta(z) / delta(t) * delta(t) / delta(x)         t           z \n",
    "    +        **2    \n",
    "          delta(z) / delta(z) * delta(z) / delta(t)           delta(z) / delta(z)\n",
    "y\n",
    "\n",
    "역전파는 오른쪽에서 왼쪽으로 신호를 전달한다. 그 계산 절차로는 노드로 들어온 입력신호에 그 노드의 국소적 미분 (편미분)을 곱한 후 다음 노드로 전달한다. 예를 들어 **2 노드의 경우, 입력으로는 d(z) / d(z)이고, 이에 국소적 미분은 d(z) / d(t) (순전파 시에는 입력이 t이고 출력이 z이므로 이 노드에서 국소적 미분은 d(z) / d(t) 이다.)를 곱해서 다음 노드로 넘긴다. 역전파가 하는 일은 연쇄법칙의 원리와 똑같다."
   ]
  }
 ],
 "metadata": {
  "kernelspec": {
   "display_name": "Python 3",
   "language": "python",
   "name": "python3"
  },
  "language_info": {
   "codemirror_mode": {
    "name": "ipython",
    "version": 3
   },
   "file_extension": ".py",
   "mimetype": "text/x-python",
   "name": "python",
   "nbconvert_exporter": "python",
   "pygments_lexer": "ipython3",
   "version": "3.7.3"
  }
 },
 "nbformat": 4,
 "nbformat_minor": 2
}
