{
 "cells": [
  {
   "cell_type": "markdown",
   "metadata": {},
   "source": [
    "### 1.5 넘파이\n",
    "\n",
    "#### 1.5.2 넘파이 배열 생성하기"
   ]
  },
  {
   "cell_type": "code",
   "execution_count": 1,
   "metadata": {},
   "outputs": [
    {
     "name": "stdout",
     "output_type": "stream",
     "text": [
      "[1. 2. 3.]\n"
     ]
    },
    {
     "data": {
      "text/plain": [
       "numpy.ndarray"
      ]
     },
     "execution_count": 1,
     "metadata": {},
     "output_type": "execute_result"
    }
   ],
   "source": [
    "import numpy as np\n",
    "\n",
    "x = np.array([1.0, 2.0, 3.0])\n",
    "print(x)\n",
    "\n",
    "type(x)"
   ]
  },
  {
   "cell_type": "markdown",
   "metadata": {},
   "source": [
    "#### 1.5.3 넘파이의 산술 연산\n",
    "\n",
    "x, y의 원소 수가 같다면 산술 연산은 각 원소에 대해 행해진다 (element - wise). \n",
    "수가 다르면 오류가 발생한다.\n",
    "\n",
    "넘파이 배열은 수치 하나 (스칼라값)의 조합으로도 계산할 수 있는데 이 기능을 원소별로 한 번씩 수행되는 브로드캐스트라고 한다."
   ]
  },
  {
   "cell_type": "code",
   "execution_count": 4,
   "metadata": {},
   "outputs": [
    {
     "name": "stdout",
     "output_type": "stream",
     "text": [
      "[3. 6. 9.]\n",
      "[-1. -2. -3.]\n",
      "[ 2.  8. 18.]\n",
      "[0.5 0.5 0.5]\n",
      "[0.5 1.  1.5]\n"
     ]
    }
   ],
   "source": [
    "y = np.array([2.0, 4.0, 6.0])\n",
    "\n",
    "print(x + y)\n",
    "print(x - y)\n",
    "print(x * y)\n",
    "print(x / y)\n",
    "\n",
    "print(x / 2.0)"
   ]
  },
  {
   "cell_type": "markdown",
   "metadata": {},
   "source": [
    "#### 1.5.4 넘파이의 N차원 배열\n",
    "\n",
    "행렬의 형상 (배열 각 차원의 크기 - 원소 수)은 shape으로,\n",
    "행렬의 담긴 원소의 자료형은 dtpye으로 알 수 있다.\n",
    "\n",
    "형상이 같은 행렬 역시 브로드캐스트 기능이 작동된다.\n",
    "\n",
    "1차원 배열, 2차원 배열, 3차원 배열 처럼 원하는 차수의 배열을 만들 수 있다."
   ]
  },
  {
   "cell_type": "code",
   "execution_count": 7,
   "metadata": {},
   "outputs": [
    {
     "name": "stdout",
     "output_type": "stream",
     "text": [
      "[[1 2]\n",
      " [3 4]] (2, 2) int32\n"
     ]
    }
   ],
   "source": [
    "A = np.array([[1, 2], [3, 4]])\n",
    "\n",
    "print(A, A.shape, A.dtype)"
   ]
  },
  {
   "cell_type": "code",
   "execution_count": 11,
   "metadata": {},
   "outputs": [
    {
     "name": "stdout",
     "output_type": "stream",
     "text": [
      "[[ 4  2]\n",
      " [ 3 10]]\n",
      "[[ 3  0]\n",
      " [ 0 24]]\n",
      "[[10 20]\n",
      " [30 40]]\n"
     ]
    }
   ],
   "source": [
    "B = np.array([[3, 0], [0, 6]])\n",
    "\n",
    "print(A + B)\n",
    "print(A * B)\n",
    "print(A * 10)"
   ]
  },
  {
   "cell_type": "markdown",
   "metadata": {},
   "source": [
    "#### 1.5.5 브로드캐스트\n",
    "\n",
    "형상이 다른 배열끼리도 계산이 가능하다.\n",
    "2 * 2 행렬에 스칼라 10을 곱하면 10이 2 * 2로 확대되어 연산이 이뤄지는데 이를 브로드캐스트라 한다."
   ]
  },
  {
   "cell_type": "code",
   "execution_count": 13,
   "metadata": {},
   "outputs": [
    {
     "name": "stdout",
     "output_type": "stream",
     "text": [
      "[[10 40]\n",
      " [30 80]]\n",
      "[[10 40]\n",
      " [30 80]]\n"
     ]
    }
   ],
   "source": [
    "A = np.array([[1, 2], [3, 4]])\n",
    "B = np.array([10, 20])\n",
    "\n",
    "print(A*B) # B가 A와 똑같은 형상으로 변형되어 원소별 연산이 이루어진다.\n",
    "\n",
    "print(B*A)"
   ]
  },
  {
   "cell_type": "markdown",
   "metadata": {},
   "source": [
    "#### 1.5.6 원소 접근\n",
    "\n",
    "인덱스를 배열로 지정해 한 번에 여러 원소에 접근할 수도 있다."
   ]
  },
  {
   "cell_type": "code",
   "execution_count": 16,
   "metadata": {},
   "outputs": [
    {
     "name": "stdout",
     "output_type": "stream",
     "text": [
      "[51 55] 55\n",
      "[51 55]\n",
      "[14 19]\n",
      "[0 4]\n",
      "[51 55 14 19  0  4]\n",
      "[51 14  0]\n"
     ]
    }
   ],
   "source": [
    "x = np.array([[51, 55], [14, 19], [0, 4]])\n",
    "\n",
    "print(x[0], x[0][1]) # 0행, (0,1) 위치 원소\n",
    "\n",
    "for row in x: print(row)\n",
    "    \n",
    "x = x.flatten() # x를 1차원 배열로 변환 (평탄화)\n",
    "print(x)\n",
    "\n",
    "print(x[np.array([0, 2, 4])]) # 인덱스가 0, 2, 4인 원소 얻기\n"
   ]
  },
  {
   "cell_type": "code",
   "execution_count": null,
   "metadata": {},
   "outputs": [],
   "source": []
  }
 ],
 "metadata": {
  "kernelspec": {
   "display_name": "Python 3",
   "language": "python",
   "name": "python3"
  },
  "language_info": {
   "codemirror_mode": {
    "name": "ipython",
    "version": 3
   },
   "file_extension": ".py",
   "mimetype": "text/x-python",
   "name": "python",
   "nbconvert_exporter": "python",
   "pygments_lexer": "ipython3",
   "version": "3.7.3"
  }
 },
 "nbformat": 4,
 "nbformat_minor": 2
}
