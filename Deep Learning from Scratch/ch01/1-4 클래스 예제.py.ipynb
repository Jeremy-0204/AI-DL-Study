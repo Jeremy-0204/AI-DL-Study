{
 "cells": [
  {
   "cell_type": "markdown",
   "metadata": {},
   "source": [
    "#### 1.4.2 클래스\n",
    "\n",
    "파이썬은 클래스를 생성하여 독자적인 자료형과 메서드를 정의할 수 있다.\n",
    "\n",
    "클래스의 정의에는 __init__ 이라는 메서드를 사용하는데, 이는 생성자 (constructor) 라고도 하며, 클래스의 인스턴스가 생성될 때 한 번만 불린다. \n",
    "\n",
    "메서드는 항상 첫 번째 인수로 자신(자신의 인스턴스)를 나타내는 self를 명시적으로 사용한다."
   ]
  },
  {
   "cell_type": "code",
   "execution_count": 3,
   "metadata": {},
   "outputs": [
    {
     "name": "stdout",
     "output_type": "stream",
     "text": [
      "Class Initialized!\n",
      "Hello Jeremy!\n",
      "Good-bye Jeremy!\n"
     ]
    }
   ],
   "source": [
    "class Man:\n",
    "    def __init__(self, name):\n",
    "        self.name = name # 인스턴스 별로 저장되는 인스턴스 변수\n",
    "        print(\"Class Initialized!\")\n",
    "        \n",
    "    def hello(self):\n",
    "        print(\"Hello \" + self.name + \"!\")\n",
    "    \n",
    "    def goodbye(self):\n",
    "        print(\"Good-bye \" + self.name + \"!\")\n",
    "\n",
    "m = Man(\"Jeremy\")\n",
    "\n",
    "m.hello()\n",
    "m.goodbye()"
   ]
  },
  {
   "cell_type": "code",
   "execution_count": null,
   "metadata": {},
   "outputs": [],
   "source": []
  }
 ],
 "metadata": {
  "kernelspec": {
   "display_name": "Python 3",
   "language": "python",
   "name": "python3"
  },
  "language_info": {
   "codemirror_mode": {
    "name": "ipython",
    "version": 3
   },
   "file_extension": ".py",
   "mimetype": "text/x-python",
   "name": "python",
   "nbconvert_exporter": "python",
   "pygments_lexer": "ipython3",
   "version": "3.7.3"
  }
 },
 "nbformat": 4,
 "nbformat_minor": 2
}
