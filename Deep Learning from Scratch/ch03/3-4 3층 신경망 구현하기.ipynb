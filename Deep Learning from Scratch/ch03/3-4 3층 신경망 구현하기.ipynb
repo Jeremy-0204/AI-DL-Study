{
 "cells": [
  {
   "cell_type": "markdown",
   "metadata": {},
   "source": [
    "### 3.4 3층 신경망 구현하기\n",
    "\n",
    "넘파이 배열을 잘 쓰면 적은 코드로도 신경망의 순방향 처리를 할 수 있다.\n",
    "입력층(0층)은 2개, 첫 번째 은닉층(1층)은 3개, 두 번째 은닉층(2층)은 2개, 출력층(3층)은 2개의 뉴런으로 구성된다.\n",
    "\n",
    "\n",
    "#### 3.4.1 표기법 설명\n",
    "\n",
    "이번 절에서는 신경망에서의 처리를 설명하며 w12, a1같은 표기법을 사용한다.\n",
    "위에는 층의 숫자와 아래 숫자는 차례로 다음층 뉴런과 앞층의 인덱스 번호이다.\n",
    "w12는 1층 2번째 뉴런에서 2층 1번째 뉴런으로 가는 것이다."
   ]
  },
  {
   "cell_type": "markdown",
   "metadata": {},
   "source": [
    "#### 3.4.2 각 층의 신호 전달 구현하기\n",
    "\n",
    "편향 뉴런 b를 추가한다.\n",
    "a1 = w11x1 + w21x2 + b1\n",
    "\n",
    "행렬의 곱으로 식은 간소화 해보자.\n",
    "A = xW + B\n",
    "\n",
    "A = (a1, a2, a3), X = (x1, x2), B = (b1, b2, b3),\n",
    "W = (w11, w21, w31\n",
    "     w12, w22, w32)"
   ]
  },
  {
   "cell_type": "code",
   "execution_count": 3,
   "metadata": {},
   "outputs": [
    {
     "name": "stdout",
     "output_type": "stream",
     "text": [
      "(2, 3)\n",
      "(2,)\n",
      "(3,)\n",
      "[0.3 0.7 1.1]\n",
      "[0.57444252 0.66818777 0.75026011]\n"
     ]
    }
   ],
   "source": [
    "# 0층의 입력층에서 1층 은닉층으로 신호 전달\n",
    "\n",
    "import numpy as np\n",
    "\n",
    "def sigmoid(x):\n",
    "    return 1 / (1+np.exp(-x))\n",
    "    \n",
    "    \n",
    "X = np.array([1.0, 0.5])\n",
    "W1 = np.array([[0.1, 0.3, 0.5], [0.2, 0.4, 0.6]])\n",
    "B1 = np.array([0.1, 0.2, 0.3])\n",
    "\n",
    "print(W1.shape)\n",
    "print(X.shape)\n",
    "print(B1.shape)\n",
    "\n",
    "A1 = np.dot(X, W1) + B1\n",
    "Z1 = sigmoid(A1)\n",
    "\n",
    "print(A1)\n",
    "print(Z1)"
   ]
  },
  {
   "cell_type": "code",
   "execution_count": 4,
   "metadata": {},
   "outputs": [
    {
     "name": "stdout",
     "output_type": "stream",
     "text": [
      "(3, 2)\n",
      "(2,)\n",
      "(3,)\n",
      "[0.6  1.33]\n",
      "[0.64565631 0.79084063]\n"
     ]
    }
   ],
   "source": [
    "# 1층에서 2층으로 가는 과정\n",
    "\n",
    "W2 = np.array([[0.1, 0.4], [0.2, 0.5], [0.3, 0.6]])\n",
    "B2 = np.array([0.1, 0.2])\n",
    "\n",
    "print(W2.shape)\n",
    "print(B2.shape)\n",
    "print(Z1.shape)\n",
    "\n",
    "A2 = np.dot(A1, W2) + B2\n",
    "Z2 = sigmoid(A2)\n",
    "\n",
    "print(A2)\n",
    "print(Z2)"
   ]
  },
  {
   "cell_type": "code",
   "execution_count": 7,
   "metadata": {},
   "outputs": [],
   "source": [
    "# 2층에서 출력층으로의 신호 전달\n",
    "\n",
    "def identity_function(x):\n",
    "    return x\n",
    "\n",
    "W3 = np.array([[0.1, 0.3], [0.2, 0.4]])\n",
    "B3 = np.array([0.1, 0.2])\n",
    "\n",
    "A3 = np.dot(A2, W3) + B3\n",
    "Y = identity_function(A3)"
   ]
  }
 ],
 "metadata": {
  "kernelspec": {
   "display_name": "Python 3",
   "language": "python",
   "name": "python3"
  },
  "language_info": {
   "codemirror_mode": {
    "name": "ipython",
    "version": 3
   },
   "file_extension": ".py",
   "mimetype": "text/x-python",
   "name": "python",
   "nbconvert_exporter": "python",
   "pygments_lexer": "ipython3",
   "version": "3.7.3"
  }
 },
 "nbformat": 4,
 "nbformat_minor": 2
}
