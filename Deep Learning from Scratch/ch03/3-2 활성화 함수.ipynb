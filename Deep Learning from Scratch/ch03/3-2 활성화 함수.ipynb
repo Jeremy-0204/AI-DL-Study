{
 "cells": [
  {
   "cell_type": "markdown",
   "metadata": {},
   "source": [
    "### 3-2 활성화 함수\n",
    "\n",
    "임계값을 경계로 출력이 바뀌는 함수를 계단 함수 (step function)이라 하는데, 이는 단층 퍼셉트론에서 채용하는 함수이다. \n",
    "그 외에도 다른 활성화 함수를 알아보자.\n",
    "\n",
    "#### 3.2.1 시그모이드 함수\n",
    "\n",
    "h(x) = 1 / 1 + exp(-x)\n",
    "\n",
    "exp(-x) 는 e^-x를 뜻하며, e는 자연상수로 2.7182...의 값을 갖는 실수이다.\n",
    "입력을 주면 특정 값을 출력해주게 된다.\n",
    "신경망에서는 시그모이드 함수로 신호를 변환하여 다음 뉴론으로 전달한다."
   ]
  },
  {
   "cell_type": "markdown",
   "metadata": {},
   "source": [
    "#### 3.2.2 계단 함수 구현하기\n",
    "\n",
    "계단 함수는 입력이 0을 넘으면 1을, 그 외에는 0을 출력하는 함수이다."
   ]
  },
  {
   "cell_type": "code",
   "execution_count": 7,
   "metadata": {},
   "outputs": [],
   "source": [
    "import numpy as np\n",
    "\n",
    "# 인수 x는 실수만 받아들일 수 있다.\n",
    "def step_function(x):\n",
    "    if x > 0: return 1\n",
    "    else: return 0\n",
    "    \n",
    "    \n",
    "# 배열도 입력으로 받을 수 있게 해보자\n",
    "def step_function(x):\n",
    "    y = x > 0 # x배열의 원소들에 대해 각각 0보다 큰지에 대한 bool 배열을 생성한다.\n",
    "    return y.astype(np.int) # bool을 0또는 1의 int 값으로 할당해준다"
   ]
  },
  {
   "cell_type": "markdown",
   "metadata": {},
   "source": [
    "넘파이 배열에 부등호 연산을 수행하면 배열 원소 각가에 연산을 수행해서 bool 배열을 return 한다."
   ]
  },
  {
   "cell_type": "code",
   "execution_count": 8,
   "metadata": {},
   "outputs": [
    {
     "name": "stdout",
     "output_type": "stream",
     "text": [
      "[False  True  True]\n"
     ]
    }
   ],
   "source": [
    "x = np.array([-1.0, 1.0, 2.0])\n",
    "\n",
    "y = x > 0\n",
    "print(y)"
   ]
  },
  {
   "cell_type": "markdown",
   "metadata": {},
   "source": [
    "넘파이 배열의 자료형을 변환할때는 astype() 메서드를 사용한다.\n",
    "원하는 자료형을 인수로 입력한다."
   ]
  },
  {
   "cell_type": "code",
   "execution_count": 9,
   "metadata": {},
   "outputs": [
    {
     "name": "stdout",
     "output_type": "stream",
     "text": [
      "[0 1 1]\n"
     ]
    }
   ],
   "source": [
    "y = y.astype(np.int)\n",
    "print(y)"
   ]
  },
  {
   "cell_type": "markdown",
   "metadata": {},
   "source": [
    "#### 3.2.3 계단 함수의 그래프"
   ]
  },
  {
   "cell_type": "code",
   "execution_count": 13,
   "metadata": {},
   "outputs": [
    {
     "data": {
      "image/png": "[encoded data removed]",
      "text/plain": [
       "<Figure size 432x288 with 1 Axes>"
      ]
     },
     "metadata": {
      "needs_background": "light"
     },
     "output_type": "display_data"
    },
    {
     "name": "stdout",
     "output_type": "stream",
     "text": [
      "None\n"
     ]
    }
   ],
   "source": [
    "import matplotlib.pylab as plt\n",
    "\n",
    "def step_function(x):\n",
    "    return np.array(x > 0, dtype = np.int)\n",
    "\n",
    "x = np.arange(-5.0, 5.0, 0.1) # 해당 범위의 0.1 간격으로 넘파이 배열 생성\n",
    "y = step_function(x)\n",
    "plt.plot(x, y)\n",
    "plt.ylim(-0.1, 1.1) # y축의 범위 지정\n",
    "print(plt.show())"
   ]
  },
  {
   "cell_type": "markdown",
   "metadata": {},
   "source": [
    "#### 3.2.4 시그모이드 함수 구현하기"
   ]
  }
 ],
 "metadata": {
  "kernelspec": {
   "display_name": "Python 3",
   "language": "python",
   "name": "python3"
  },
  "language_info": {
   "codemirror_mode": {
    "name": "ipython",
    "version": 3
   },
   "file_extension": ".py",
   "mimetype": "text/x-python",
   "name": "python",
   "nbconvert_exporter": "python",
   "pygments_lexer": "ipython3",
   "version": "3.7.3"
  }
 },
 "nbformat": 4,
 "nbformat_minor": 2
}
