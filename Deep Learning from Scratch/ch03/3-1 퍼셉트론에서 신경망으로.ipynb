{
 "cells": [
  {
   "cell_type": "markdown",
   "metadata": {},
   "source": [
    "### 3-1 퍼셉트론에서 신경망으로\n",
    "\n",
    "#### 3.1.2 퍼셉트론 복습\n",
    "\n",
    "편향은 입력이 1이고 가중치가 b인 노드와 엣지로 표현가능하다.\n",
    "\n",
    "조건분기의 동작을 하나의 함수 h(x)로 표현할 수 있다.\n",
    "\n",
    "y = h(b + w1x1 + w2x2)\n",
    "\n",
    "h(x) = 0 (x <= 0)\n",
    "       1 (x > 0)\n",
    "      \n",
    "입력 신호의 총합이 h(x)라는 함수를 거쳐 변환되어 y의 출력이 되는 식이다. "
   ]
  },
  {
   "cell_type": "markdown",
   "metadata": {},
   "source": [
    "#### 3.1.3 활성화 함수의 등장\n",
    "\n",
    "h(x)처럼 입력 신호의 총합을 출력 신호로 변환하는 함수를 활성화 함수 (activation function)이라고 한다.\n",
    "입력 신호의 총합이 활성화를 일으키는지를 정하는 역할을 한다.\n",
    "\n",
    "a = h(b + w1x1 + w2x2)\n",
    "\n",
    "y = h(a)\n",
    "\n",
    "입력 신호의 총합을 a로, 그리고 a를 함수 h()에 넣어 y를 출력한다.\n",
    "\n",
    "기존 뉴런의 원을 키워 그 안에 활성화 함수의 처리과정을 넣는다.\n",
    "가중치 신호를 조합한 결과가 a이며, 활성화 함수 h를 통해 y라는 노드로 변환이된다. \n",
    "\n",
    "단순 퍼셉트론은 단층 네트워크에서 계단 함수 (임계값을 경계로 출력이 바뀌는 함수)를 활성화 함수로 사용 모델을 의미한다.\n",
    "다층 퍼셉트론은 신경망 (여러 층으로구성되고 시그모이드 함수 등의 매끈한 활성화 함수를 사용하는 네트워크)을 가리킨다."
   ]
  }
 ],
 "metadata": {
  "kernelspec": {
   "display_name": "Python 3",
   "language": "python",
   "name": "python3"
  },
  "language_info": {
   "codemirror_mode": {
    "name": "ipython",
    "version": 3
   },
   "file_extension": ".py",
   "mimetype": "text/x-python",
   "name": "python",
   "nbconvert_exporter": "python",
   "pygments_lexer": "ipython3",
   "version": "3.7.3"
  }
 },
 "nbformat": 4,
 "nbformat_minor": 2
}
