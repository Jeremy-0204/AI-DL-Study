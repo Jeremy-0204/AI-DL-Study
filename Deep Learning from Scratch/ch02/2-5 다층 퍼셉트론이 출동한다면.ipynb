{
 "cells": [
  {
   "cell_type": "markdown",
   "metadata": {},
   "source": [
    "### 2.5 다층 퍼셉트론이 출동한다면\n",
    "\n",
    "층을 쌓아 다층 퍼센트론으로 XOR 구현이 가능하다.\n",
    "\n",
    "#### 2.5.1 기존 게이트 조합하기\n",
    "\n",
    "XOR 게이트를 만드는 여러 방법 중 하나는 AND, NAND, OR 게이트를 조합하는 것이다. \n",
    "NAND, OR 게이트의 출력값을 AND로 묶으면 (0,1), (1,0)의 XOR 값이 출력 될 것이다. "
   ]
  },
  {
   "cell_type": "markdown",
   "metadata": {},
   "source": [
    "#### 2.5.2 XOR 게이트 구현하기\n",
    "\n",
    "XOR은 층이 2개인 다층 퍼셉트론이다.\n",
    "각 층별로 입력을 받아 다음 층으로 신호를 전달해주는 일을 해준다.\n",
    "층을 여러개 쌓아 더 다양한 것을 표현할 수 있다."
   ]
  },
  {
   "cell_type": "code",
   "execution_count": 1,
   "metadata": {},
   "outputs": [],
   "source": [
    "import numpy as np\n",
    "\n",
    "def AND(x1, x2):\n",
    "    x = np.array([x1, x2])\n",
    "    w = np.array([0.5, 0.5])\n",
    "    b = -0.7\n",
    "    \n",
    "    tmp = np.sum(w*x) + b\n",
    "    \n",
    "    if tmp <= 0 : return 0\n",
    "    else: return 1\n",
    "    \n",
    "def NAND(x1, x2):\n",
    "    x = np.array([x1, x2])\n",
    "    w = np.array([-0.5, -0.5])\n",
    "    b = 0.7 # 가중치와 편향 값의 변경으로 함수의 기능이 달라진다\n",
    "    \n",
    "    tmp = np.sum(w*x) + b\n",
    "    \n",
    "    if tmp <= 0 : return 0\n",
    "    else: return 1\n",
    "\n",
    "\n",
    "def OR(x1, x2):\n",
    "    x = np.array([x1, x2])\n",
    "    w = np.array([0.5, 0.5])\n",
    "    b = -0.2 # 가중치와 편향 값의 변경으로 함수의 기능이 달라진다\n",
    "    \n",
    "    tmp = np.sum(w*x) + b\n",
    "    \n",
    "    if tmp <= 0 : return 0\n",
    "    else: return 1"
   ]
  },
  {
   "cell_type": "code",
   "execution_count": 2,
   "metadata": {},
   "outputs": [
    {
     "name": "stdout",
     "output_type": "stream",
     "text": [
      "0\n",
      "1\n",
      "1\n",
      "0\n"
     ]
    }
   ],
   "source": [
    "def XOR(x1, x2):\n",
    "    s1 = NAND(x1, x2)\n",
    "    s2 = OR(x1, x2)\n",
    "    y = AND(s1, s2)\n",
    "    \n",
    "    return y\n",
    "\n",
    "print(XOR(0, 0))\n",
    "print(XOR(0, 1))\n",
    "print(XOR(1, 0))\n",
    "print(XOR(1, 1))"
   ]
  }
 ],
 "metadata": {
  "kernelspec": {
   "display_name": "Python 3",
   "language": "python",
   "name": "python3"
  },
  "language_info": {
   "codemirror_mode": {
    "name": "ipython",
    "version": 3
   },
   "file_extension": ".py",
   "mimetype": "text/x-python",
   "name": "python",
   "nbconvert_exporter": "python",
   "pygments_lexer": "ipython3",
   "version": "3.7.3"
  }
 },
 "nbformat": 4,
 "nbformat_minor": 2
}
