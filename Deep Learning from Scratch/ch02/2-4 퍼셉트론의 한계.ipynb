{
 "cells": [
  {
   "cell_type": "markdown",
   "metadata": {},
   "source": [
    "### 2.4 퍼셉트론의 한계\n",
    "\n",
    "#### 2.4.1 도전! XOR 게이트\n",
    "\n",
    "XOR 게이트는 배타적 논리합이라는 논리회로이다.\n",
    "x1, x2 중 한쪽만 1인 경우에만 1을 출력한다.\n",
    "\n",
    "그러나 지금까지 살펴본 퍼셉트론으로는 XOR 구현이 불가하다.\n",
    "퍼셉트론은 직선으로 나뉜 두 영역을 만들게 된다. 한쪽은 1을 출력하고 다른 한쪽은 0을 출력한다.\n",
    "\n",
    "퍼셉트론으로 구현 가능한 OR 게이트의 경우는\n",
    "(0,0), (0,1), (1,0) 3가지는 1을 출력하고\n",
    "(1,1) 1가지는 0을 출력해야 하는데 이는 직선으로 구분 지을 수 있다.\n",
    "\n",
    "그런데 XOR은 직선 하나로 영역을 나누는 방법이 존재하지 않는다."
   ]
  },
  {
   "cell_type": "markdown",
   "metadata": {},
   "source": [
    "#### 2.4.2 선형과 비선형\n",
    "\n",
    "그러나 직선이라는 제약을 없앤다면 비선형 영역을 더 자유롭게 나눌 수 있다.\n",
    "퍼셉트론은 직선 하나로 나눈 선형 영역만 표현 할 수 있다는 한계가 있다."
   ]
  }
 ],
 "metadata": {
  "kernelspec": {
   "display_name": "Python 3",
   "language": "python",
   "name": "python3"
  },
  "language_info": {
   "codemirror_mode": {
    "name": "ipython",
    "version": 3
   },
   "file_extension": ".py",
   "mimetype": "text/x-python",
   "name": "python",
   "nbconvert_exporter": "python",
   "pygments_lexer": "ipython3",
   "version": "3.7.3"
  }
 },
 "nbformat": 4,
 "nbformat_minor": 2
}
