{
 "cells": [
  {
   "cell_type": "markdown",
   "metadata": {},
   "source": [
    "### 2.3 퍼셉트론 구현하기\n",
    "\n",
    "퍼셉트론은 여러개의 입력 신호로부터 하나의 신호를 출력하는 알고리즘이다.\n",
    "입력 노드에 weight, 가중치가 곱해져 정해진 threshold, 임계값을 넘으면 1, 아니면 0을 출력한다.\n",
    "\n",
    "#### 2.3.1 간단한 구현부터\n",
    "\n",
    "x1, x2를 인수로 받는 AND 함수의 구현이다.\n",
    "함수안에서 가중치와 임계값을 초기화 하여\n",
    "가중치를 곱한 입력의 총합이 임계값을 넘으면 1, 그렇지 않으면 0을 출력하는 함수이다."
   ]
  },
  {
   "cell_type": "code",
   "execution_count": 1,
   "metadata": {},
   "outputs": [],
   "source": [
    "def AND(x1, x2):\n",
    "    w1, w2, theta = 0.5, 0.5, 0.7\n",
    "    tmp = x1 * w1 + x2 * w2\n",
    "    \n",
    "    if tmp <= theta: return 0\n",
    "    \n",
    "    else: return 1"
   ]
  },
  {
   "cell_type": "code",
   "execution_count": 3,
   "metadata": {},
   "outputs": [
    {
     "name": "stdout",
     "output_type": "stream",
     "text": [
      "0\n",
      "0\n",
      "0\n",
      "1\n"
     ]
    }
   ],
   "source": [
    "print(AND(0,0))\n",
    "print(AND(0,1))\n",
    "print(AND(1,0))\n",
    "print(AND(1,1))"
   ]
  },
  {
   "cell_type": "code",
   "execution_count": null,
   "metadata": {},
   "outputs": [],
   "source": []
  }
 ],
 "metadata": {
  "kernelspec": {
   "display_name": "Python 3",
   "language": "python",
   "name": "python3"
  },
  "language_info": {
   "codemirror_mode": {
    "name": "ipython",
    "version": 3
   },
   "file_extension": ".py",
   "mimetype": "text/x-python",
   "name": "python",
   "nbconvert_exporter": "python",
   "pygments_lexer": "ipython3",
   "version": "3.7.3"
  }
 },
 "nbformat": 4,
 "nbformat_minor": 2
}
