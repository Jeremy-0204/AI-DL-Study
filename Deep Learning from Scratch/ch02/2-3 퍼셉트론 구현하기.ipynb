{
 "cells": [
  {
   "cell_type": "markdown",
   "metadata": {},
   "source": [
    "### 2.3 퍼셉트론 구현하기\n",
    "\n",
    "퍼셉트론은 여러개의 입력 신호로부터 하나의 신호를 출력하는 알고리즘이다.\n",
    "입력 노드에 weight, 가중치가 곱해져 정해진 threshold, 임계값을 넘으면 1, 아니면 0을 출력한다.\n",
    "\n",
    "#### 2.3.1 간단한 구현부터\n",
    "\n",
    "x1, x2를 인수로 받는 AND 함수의 구현이다.\n",
    "함수안에서 가중치와 임계값을 초기화 하여\n",
    "가중치를 곱한 입력의 총합이 임계값을 넘으면 1, 그렇지 않으면 0을 출력하는 함수이다."
   ]
  },
  {
   "cell_type": "code",
   "execution_count": 1,
   "metadata": {},
   "outputs": [],
   "source": [
    "def AND(x1, x2):\n",
    "    w1, w2, theta = 0.5, 0.5, 0.7\n",
    "    tmp = x1 * w1 + x2 * w2\n",
    "    \n",
    "    if tmp <= theta: return 0\n",
    "    \n",
    "    else: return 1"
   ]
  },
  {
   "cell_type": "code",
   "execution_count": 3,
   "metadata": {},
   "outputs": [
    {
     "name": "stdout",
     "output_type": "stream",
     "text": [
      "0\n",
      "0\n",
      "0\n",
      "1\n"
     ]
    }
   ],
   "source": [
    "print(AND(0,0))\n",
    "print(AND(0,1))\n",
    "print(AND(1,0))\n",
    "print(AND(1,1))"
   ]
  },
  {
   "cell_type": "markdown",
   "metadata": {},
   "source": [
    "#### 2.3.2 가중치와 편향 도입\n",
    "\n",
    "임계값 Theta를 -b로 치환하여 편향이라는 개념을 도입한다.\n",
    "퍼셉트론은 입력 신호에 가중치를 곱하고 편향을 합해서 0을 넘으면 1을 출력하고 그렇지 않으면 0을 출력한다."
   ]
  },
  {
   "cell_type": "code",
   "execution_count": 4,
   "metadata": {},
   "outputs": [
    {
     "name": "stdout",
     "output_type": "stream",
     "text": [
      "[0.  0.5]\n",
      "0.5\n",
      "-0.19999999999999996\n"
     ]
    }
   ],
   "source": [
    "import numpy as np\n",
    "\n",
    "x = np.array([0, 1]) # 입력\n",
    "w = np.array([0.5, 0.5]) # 가중치\n",
    "b = -0.7 # 편향\n",
    "\n",
    "print(w * x)\n",
    "print(np.sum(w*x))\n",
    "print(np.sum(w*x) + b)"
   ]
  },
  {
   "cell_type": "markdown",
   "metadata": {},
   "source": [
    "#### 2.3.2 가중치와 편향 구현하기\n",
    "\n",
    "-theta 값을 b로 치환하여 함수를 구현한다.\n",
    "편향은 가중치와 기능이 다르다.\n",
    "\n",
    "가중치는 입력신호가 결과에 주는 영향력 (중요도)를 조절하는 매개변수이며\n",
    "편향은 뉴런이 얼마나 쉽게 활성화 (결과를 1로 출력) 하느냐를 조정하는 매개변수이다.\n",
    "\n",
    "b가 -0.1이면 신호와 가중치의 곱의 총합이 0.1을 초과할때만 뉴런이 활성화된다. "
   ]
  },
  {
   "cell_type": "code",
   "execution_count": 5,
   "metadata": {},
   "outputs": [
    {
     "name": "stdout",
     "output_type": "stream",
     "text": [
      "0\n"
     ]
    }
   ],
   "source": [
    "def AND(x1, x2):\n",
    "    x = np.array([x1, x2])\n",
    "    w = np.array([0.5, 0.5])\n",
    "    b = -0.7\n",
    "    \n",
    "    tmp = np.sum(w*x) + b\n",
    "    \n",
    "    if tmp <= 0 : return 0\n",
    "    else: return 1\n",
    "\n",
    "print(AND(0, 1))"
   ]
  },
  {
   "cell_type": "code",
   "execution_count": null,
   "metadata": {},
   "outputs": [],
   "source": [
    "def NAND(x1, x2):\n",
    "    x = np.array([x1, x2])\n",
    "    w = np.array([-0.5, -0.5])\n",
    "    b = 0.7 # 가중치와 편향 값의 변경으로 함수의 기능이 달라진다\n",
    "    \n",
    "    tmp = np.sum(w*x) + b\n",
    "    \n",
    "    if tmp <= 0 : return 0\n",
    "    else: return 1\n",
    "\n",
    "print(NAND(0, 1))\n",
    "\n",
    "def OR(x1, x2):\n",
    "    x = np.array([x1, x2])\n",
    "    w = np.array([0.5, 0.5])\n",
    "    b = 0.7 # 가중치와 편향 값의 변경으로 함수의 기능이 달라진다\n",
    "    \n",
    "    tmp = np.sum(w*x) + b\n",
    "    \n",
    "    if tmp <= 0 : return 0\n",
    "    else: return 1"
   ]
  }
 ],
 "metadata": {
  "kernelspec": {
   "display_name": "Python 3",
   "language": "python",
   "name": "python3"
  },
  "language_info": {
   "codemirror_mode": {
    "name": "ipython",
    "version": 3
   },
   "file_extension": ".py",
   "mimetype": "text/x-python",
   "name": "python",
   "nbconvert_exporter": "python",
   "pygments_lexer": "ipython3",
   "version": "3.7.3"
  }
 },
 "nbformat": 4,
 "nbformat_minor": 2
}
